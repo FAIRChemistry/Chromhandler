{
 "cells": [
  {
   "cell_type": "code",
   "execution_count": 12,
   "metadata": {},
   "outputs": [
    {
     "name": "stdout",
     "output_type": "stream",
     "text": [
      "The autoreload extension is already loaded. To reload it, use:\n",
      "  %reload_ext autoreload\n"
     ]
    }
   ],
   "source": [
    "from sdRDM import DataModel\n",
    "from sdRDM.generator import generate_python_api\n",
    "import re\n",
    "\n",
    "%load_ext autoreload\n",
    "%autoreload 2\n",
    "from HPLC.tools.parser import read_file"
   ]
  },
  {
   "cell_type": "code",
   "execution_count": 18,
   "metadata": {},
   "outputs": [
    {
     "name": "stdout",
     "output_type": "stream",
     "text": [
      "HPLCExperiment\n",
      "├── id\n",
      "├── methods\n",
      "│   └── 0\n",
      "│       ├── id\n",
      "│       ├── injection_time\n",
      "│       ├── injection_date\n",
      "│       ├── injection_volume\n",
      "│       ├── injection_volume_unit\n",
      "│       ├── location\n",
      "│       ├── oven\n",
      "│       │   ├── id\n",
      "│       │   ├── init_temp\n",
      "│       │   ├── max_temp\n",
      "│       │   ├── equilibrate_time\n",
      "│       │   ├── ramps\n",
      "│       │   │   └── 0\n",
      "│       │   │       ├── id\n",
      "│       │   │       ├── temp_rate\n",
      "│       │   │       ├── final_temp\n",
      "│       │   │       ├── hold_time\n",
      "│       │   │       └── time_unit\n",
      "│       │   ├── post_temp\n",
      "│       │   ├── post_time\n",
      "│       │   └── run_time\n",
      "│       ├── columns\n",
      "│       │   └── 0\n",
      "│       │       ├── id\n",
      "│       │       ├── name\n",
      "│       │       ├── type\n",
      "│       │       ├── max_temp\n",
      "│       │       ├── length\n",
      "│       │       ├── diameter\n",
      "│       │       ├── film_thickness\n",
      "│       │       ├── flow_mode\n",
      "│       │       ├── flow_rate\n",
      "│       │       ├── flow_unit\n",
      "│       │       ├── inlet\n",
      "│       │       │   ├── id\n",
      "│       │       │   ├── mode\n",
      "│       │       │   ├── init_temp\n",
      "│       │       │   ├── pressure\n",
      "│       │       │   ├── pressure_unit\n",
      "│       │       │   ├── split_ratio\n",
      "│       │       │   ├── split_flow\n",
      "│       │       │   ├── total_flow\n",
      "│       │       │   ├── flow_unit\n",
      "│       │       │   ├── gas_saver\n",
      "│       │       │   └── gas_type\n",
      "│       │       ├── detector\n",
      "│       │       │   ├── id\n",
      "│       │       │   ├── type\n",
      "│       │       │   ├── flow_mode\n",
      "│       │       │   ├── makeup_flow\n",
      "│       │       │   ├── makeup_gas\n",
      "│       │       │   ├── flow_unit\n",
      "│       │       │   └── reference_flow\n",
      "│       │       └── outlet_pressure\n",
      "│       └── valves\n",
      "│           └── 0\n",
      "│               ├── id\n",
      "│               ├── name\n",
      "│               ├── loop_volume\n",
      "│               ├── load_time\n",
      "│               └── inject_time\n",
      "└── signals\n",
      "    └── 0\n",
      "        ├── id\n",
      "        ├── peaks\n",
      "        │   └── 0\n",
      "        │       ├── id\n",
      "        │       ├── retention_time\n",
      "        │       ├── retention_time_unit\n",
      "        │       ├── type\n",
      "        │       ├── width\n",
      "        │       ├── width_unit\n",
      "        │       ├── area\n",
      "        │       ├── area_unit\n",
      "        │       ├── height\n",
      "        │       ├── height_unit\n",
      "        │       └── percent_area\n",
      "        └── type\n"
     ]
    },
    {
     "data": {
      "text/plain": [
       "ClassNode(/HPLCExperiment, class_name=None, constants={}, id=None, module=None, outer_type=None)"
      ]
     },
     "execution_count": 18,
     "metadata": {},
     "output_type": "execute_result"
    }
   ],
   "source": [
    "model = DataModel.from_markdown(\"specifications/HPLC.md\")\n",
    "model.HPLCExperiment.meta_tree()"
   ]
  },
  {
   "cell_type": "code",
   "execution_count": 5,
   "metadata": {},
   "outputs": [],
   "source": [
    "data_path = \"data/Report.TXT\"\n",
    "metadata_path = \"data/ACQ.TXT\""
   ]
  },
  {
   "cell_type": "code",
   "execution_count": 49,
   "metadata": {},
   "outputs": [
    {
     "data": {
      "text/plain": [
       "'1000 µl'"
      ]
     },
     "execution_count": 49,
     "metadata": {},
     "output_type": "execute_result"
    }
   ],
   "source": [
    "from HPLC.tools.parser import parse_peaks\n",
    "\n",
    "\n",
    "parse_peaks(data_path)"
   ]
  },
  {
   "cell_type": "code",
   "execution_count": 22,
   "metadata": {},
   "outputs": [],
   "source": [
    "INJ_VOLUME = re.compile(\"(\\d+\\s+(µ?[a-zA-Z]?l))\")"
   ]
  },
  {
   "cell_type": "code",
   "execution_count": 37,
   "metadata": {},
   "outputs": [
    {
     "data": {
      "text/plain": [
       "'1000 µl'"
      ]
     },
     "execution_count": 37,
     "metadata": {},
     "output_type": "execute_result"
    }
   ],
   "source": [
    "INJ_VOLUME.search(lines[8])[0]"
   ]
  }
 ],
 "metadata": {
  "kernelspec": {
   "display_name": "base",
   "language": "python",
   "name": "python3"
  },
  "language_info": {
   "codemirror_mode": {
    "name": "ipython",
    "version": 3
   },
   "file_extension": ".py",
   "mimetype": "text/x-python",
   "name": "python",
   "nbconvert_exporter": "python",
   "pygments_lexer": "ipython3",
   "version": "3.11.3"
  },
  "orig_nbformat": 4
 },
 "nbformat": 4,
 "nbformat_minor": 2
}
