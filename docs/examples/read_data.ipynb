{
    "cells": [
        {
            "cell_type": "markdown",
            "metadata": {},
            "source": [
                "# 📖 Read Chromatographic Data"
            ]
        },
        {
            "cell_type": "code",
            "execution_count": 1,
            "metadata": {},
            "outputs": [],
            "source": [
                "# Setup colab\n",
                "try:\n",
                "    from chromatopy import ChromAnalyzer\n",
                "\n",
                "except ImportError:\n",
                "    print(\"Installing chromatopy...\")\n",
                "    !git clone --quiet -b update-sdrdm https://github.com/FAIRChemistry/chromatopy.git\n",
                "    %cd chromatopy\n",
                "    !git checkout update-sdrdm > /dev/null 2>&1\n",
                "    !pip install . > /dev/null 2>&1\n",
                "    %cd docs/examples"
            ]
        },
        {
            "cell_type": "markdown",
            "metadata": {},
            "source": [
                "---\n",
                "\n",
                "The `chromatopy` library provides a set of reader functions designed to read and process chromatographic data from various file formats. These functions typically read data from a specified directory and return a `ChromAnalyzer` object, which is the central object used in `chromatopy` to manipulate and analyze chromatographic measurements.\n",
                "\n",
                "## General Syntax\n",
                "Each of the [supported file formats](../../supported_formats/#supported-formats) has a corresponding reader function, namely `read_asm`, `read_agilent`, `read_chromeleon`, and `read_shimadzu`. Following arguments are common to all reader functions:\n",
                "\n",
                "__Required Parameters__:  \n",
                "\n",
                "- `path`: The path to the directory containing the chromatographic files.\n",
                "- `ph`: The pH value of the measurement.\n",
                "- `temperature`: The temperature of the measurement.\n",
                "- `mode`: The mode of the measurement, either `calibration` or `timecourse`.\n",
                "\n",
                "__Optional Parameters__:  \n",
                "\n",
                "- `id`: A unique identifier for the `ChromAnalyzer` object. If not provided, the `path` is used as the ID.\n",
                "- `name`: The name of the measurement. Defaults to \"Chromatographic measurement\".\n",
                "- `values`: A list of reaction times corresponding to each file in the directory for timecourse measurements or concentrations for calibration measurements. If not provided, the reaction times are extracted from the file names if possible.\n",
                "- `time_unit`: The unit of the time values `second`, `minute`, and `hour`, which can directly be imported from `chromatopy`. This is also optional if the unit is embedded in the file names.\n",
                "- `temperature_unit`: The unit of the temperature. The default is Celsius (C).\n",
                "\n",
                "\n",
                "__Returns__:  \n",
                "\n",
                "The function returns a `ChromAnalyzer` object, which can be used to further analyze and manipulate the chromatographic data within the `chromatopy` framework.\n",
                "\n",
                "### Automatic Extraction from File Names\n",
                "\n",
                "`chromatopy` can automatically extract the reaction time and time unit or cocentration values and concentration unit directly from the file names. This is particularly useful when files are named in a way that includes this information (e.g., `sample_10min.txt`, `a11 3.45 hours.json`, or `B02_35_sec.json`). However, this requires the file names to follow a specific format that `chromatopy` can recognize: It is assumed that the reaction time is the first numerical value which might have a decimal separator, followed by the name of the unit `sec`, `second`, `min`, `minute`, or `hour`. For concentration values, the first numerical value is assumed to be the concentration, followed by the name of the unit `mM`, `uM`, `nM`. If the file names do not follow this format, values and units need to be provided manually.\n",
                "\n",
                "### Manual Specification of Reaction Times and Time Units\n",
                "\n",
                "If the reader function cannot automatically extract this information, you will need to provide it manually:\n",
                "\n",
                "- **`values`**: Provide a list of reaction times or concentrations corresponding to each file in the directory. Make sure that the file names are sorted alphabetically, so the order of values in the list matches the file order.\n",
                "- **`unit`**: Specify the unit of the time values (e.g., `sec`, `minute`, `hour`, `nM`, `uM`, `mM`, `M`).\n",
                "\n",
                "---\n",
                "\n",
                "## Allotrope Simple Model (ASM) Format\n",
                "\n",
                "The Allotrope Simple Model (ASM) format is the preferred format to be used with `chromatopy`. If not already done, you can batch process your chromatographic data with OpenChrom as [described](../../supported_formats/#spectrum-processing-with-openchrom-from-lablicate) to convert your data to the ASM format.\n",
                "\n",
                "ASM data is read in with the `read_asm` function. This function reads chromatographic data from a directory containing Allotrope Simple Model (ASM) files. The measurements are assumed to be named alphabetically, allowing sorting by file name."
            ]
        },
        {
            "cell_type": "code",
            "execution_count": 2,
            "metadata": {},
            "outputs": [
                {
                    "name": "stdout",
                    "output_type": "stream",
                    "text": [
                        " Loaded 4 chromatograms.\n"
                    ]
                }
            ],
            "source": [
                "from chromatopy import ChromAnalyzer\n",
                "\n",
                "data_dir = \"data/asm\"\n",
                "\n",
                "analyzer = ChromAnalyzer.read_asm(path=data_dir, ph=7.4, temperature=25, mode=\"timecourse\")"
            ]
        },
        {
            "cell_type": "markdown",
            "metadata": {},
            "source": [
                "## Other Supported Formats\n",
                "\n",
                "### Agilent ChemStation\n",
                "\n",
                "Agilent ChemStation files can be read in with the `read_agilent` function. Please note that this function relies on the existence of either a `RESULTS.CSV` or a `*.TXT` file in the `*.D` directory, which can be generated by the Agilent ChemStation software. Thus, it is recommended to use OpenChrom to convert your data to the ASM format.\n",
                "\n",
                "Please note, that automatic reaction time and unit detection does not work for `RESULTS.CSV` files. The reaction time and unit must be provided manually."
            ]
        },
        {
            "cell_type": "code",
            "execution_count": 3,
            "metadata": {},
            "outputs": [
                {
                    "name": "stdout",
                    "output_type": "stream",
                    "text": [
                        " Loaded 4 chromatograms.\n"
                    ]
                }
            ],
            "source": [
                "from chromatopy import ChromAnalyzer\n",
                "from chromatopy.units import minute\n",
                "\n",
                "data_dir = \"data/agilent_txt\"\n",
                "reaction_times = [0, 10, 20, 40]\n",
                "\n",
                "analyzer = ChromAnalyzer.read_agilent(\n",
                "    path=data_dir,\n",
                "    ph=7.4,\n",
                "    temperature=25,\n",
                "    values=reaction_times,\n",
                "    unit=minute,\n",
                "    mode=\"timecourse\",\n",
                ")"
            ]
        },
        {
            "cell_type": "markdown",
            "metadata": {},
            "source": [
                "The `read_agilent` method also reads rdl formatted *.txt files."
            ]
        },
        {
            "cell_type": "code",
            "execution_count": 4,
            "metadata": {},
            "outputs": [
                {
                    "name": "stdout",
                    "output_type": "stream",
                    "text": [
                        " Loaded 2 chromatograms.\n"
                    ]
                }
            ],
            "source": [
                "from chromatopy import ChromAnalyzer\n",
                "\n",
                "data_dir = \"data/agilent_rdl\"\n",
                "\n",
                "analyzer = ChromAnalyzer.read_agilent(\n",
                "    path=data_dir,\n",
                "    ph=7.4,\n",
                "    temperature=25,\n",
                "    mode=\"timecourse\",\n",
                ")"
            ]
        },
        {
            "cell_type": "markdown",
            "metadata": {},
            "source": [
                "### Chromeleon\n",
                "\n",
                "Chromeleon files can be read in with the `read_chromeleon` function. Please note that this function relies on the existence of a `*.txt` file in the directory. If applicable use OpenChrom to preproces and convert your files from Thermo Fisher Scientific to the ASM format."
            ]
        },
        {
            "cell_type": "code",
            "execution_count": 5,
            "metadata": {},
            "outputs": [
                {
                    "name": "stdout",
                    "output_type": "stream",
                    "text": [
                        " Loaded 6 chromatograms.\n"
                    ]
                }
            ],
            "source": [
                "from chromatopy import ChromAnalyzer\n",
                "\n",
                "data_dir = \"data/chromeleon\"\n",
                "\n",
                "analyzer = ChromAnalyzer.read_chromeleon(\n",
                "    path=data_dir,\n",
                "    ph=7.4,\n",
                "    temperature=25,\n",
                "    mode=\"calibration\",\n",
                ")"
            ]
        },
        {
            "cell_type": "markdown",
            "metadata": {},
            "source": [
                "### Shimadzu\n",
                "\n",
                "Shimadzu `*.txt` files can be read in with the `read_shimadzu` function. This function reads chromatographic data as the previously described functions.  \n",
                "In this dataset, the corresponding reaction times for each measurement are manually specified and the respective `time_unit` is imported."
            ]
        },
        {
            "cell_type": "code",
            "execution_count": 6,
            "metadata": {},
            "outputs": [
                {
                    "name": "stdout",
                    "output_type": "stream",
                    "text": [
                        " Loaded 9 chromatograms.\n"
                    ]
                }
            ],
            "source": [
                "from chromatopy import ChromAnalyzer\n",
                "from chromatopy.units import minute\n",
                "\n",
                "data_dir = \"data/shimadzu\"\n",
                "\n",
                "analyzer = ChromAnalyzer.read_shimadzu(\n",
                "    path=data_dir,\n",
                "    ph=7.4,\n",
                "    temperature=25,\n",
                "    values=[0, 5, 10, 15, 20, 25, 30, 35, 40],\n",
                "    unit=minute,\n",
                "    mode=\"timecourse\",\n",
                ")"
            ]
        },
        {
            "cell_type": "markdown",
            "metadata": {},
            "source": [
                "### Thermo Scientific\n",
                "\n",
                "Thermo Scientific `*.TX0` files can be read in with the `read_thermo` function. This function reads chromatographic data from files that use comma as decimal separator."
            ]
        },
        {
            "cell_type": "code",
            "execution_count": 7,
            "metadata": {},
            "outputs": [
                {
                    "name": "stdout",
                    "output_type": "stream",
                    "text": [
                        " Loaded 8 chromatograms.\n"
                    ]
                }
            ],
            "source": [
                "from chromatopy import ChromAnalyzer\n",
                "from chromatopy.units import C, minute\n",
                "\n",
                "data_dir = \"data/thermo\"\n",
                "\n",
                "analyzer = ChromAnalyzer.read_thermo(\n",
                "    path=data_dir,\n",
                "    values=[0.0, 1.0, 2.0, 3.0, 4.0, 5.0, 6.0, 7.0],\n",
                "    unit=minute,\n",
                "    ph=7.4,\n",
                "    temperature=25.0,\n",
                "    temperature_unit=C,\n",
                "    mode=\"timecourse\",\n",
                ")"
            ]
        },
        {
            "cell_type": "markdown",
            "metadata": {},
            "source": [
                "## Saving the `ChromAnalyzer` Object\n",
                "\n",
                "It is possible to save the current state of the `ChromAnalyzer` object to a file using the `to_json` method. This method saves the object as a JSON file, which can be loaded back into the `chromatopy` framework using the `from_json` function."
            ]
        },
        {
            "cell_type": "code",
            "execution_count": 8,
            "metadata": {},
            "outputs": [],
            "source": [
                "analyzer.to_json(\"data/instances/shimadzu_analyzer.json\")\n",
                "\n",
                "analyzer = ChromAnalyzer.from_json(\"data/instances/shimadzu_analyzer.json\")"
            ]
        }
    ],
    "metadata": {
        "kernelspec": {
            "display_name": "chromatopy",
            "language": "python",
            "name": "python3"
        },
        "language_info": {
            "codemirror_mode": {
                "name": "ipython",
                "version": 3
            },
            "file_extension": ".py",
            "mimetype": "text/x-python",
            "name": "python",
            "nbconvert_exporter": "python",
            "pygments_lexer": "ipython3",
            "version": "3.12.4"
        }
    },
    "nbformat": 4,
    "nbformat_minor": 2
}
