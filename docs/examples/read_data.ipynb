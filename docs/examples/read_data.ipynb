{
    "cells": [
        {
            "cell_type": "markdown",
            "metadata": {},
            "source": [
                "# 📖 Read Chromatographic Data"
            ]
        },
        {
            "cell_type": "code",
            "execution_count": 1,
            "metadata": {},
            "outputs": [],
            "source": [
                "# Setup colab\n",
                "try:\n",
                "    from chromatopy import ChromAnalyzer\n",
                "\n",
                "except ImportError:\n",
                "    print(\"Installing chromatopy...\")\n",
                "    !git clone --quiet -b update-sdrdm https://github.com/FAIRChemistry/chromatopy.git\n",
                "    %cd chromatopy\n",
                "    !git checkout update-sdrdm > /dev/null 2>&1\n",
                "    !pip install . > /dev/null 2>&1\n",
                "    %cd docs/examples"
            ]
        },
        {
            "cell_type": "markdown",
            "metadata": {},
            "source": [
                "---\n",
                "\n",
                "The `chromatopy` library provides a set of reader functions designed to read and process chromatographic data from various file formats. These functions typically read data from a specified directory and return a `ChromAnalyzer` object, which is the central object used in `chromatopy` to manipulate and analyze chromatographic measurements.\n",
                "\n",
                "## General Syntax\n",
                "Each of the [supported file formats](../../supported_formats/#supported-formats) has a corresponding reader function, namely `read_asm`, `read_agilent`, `read_chromeleon`, and `read_shimadzu`. Following arguments are common to all reader functions:\n",
                "\n",
                "__Required Parameters__:  \n",
                "\n",
                "- `path`: The path to the directory containing the chromatographic files.\n",
                "- `ph`: The pH value of the measurement.\n",
                "- `temperature`: The temperature of the measurement.\n",
                "- `mode`: The mode of the measurement, either `calibration` or `timecourse`.\n",
                "\n",
                "__Optional Parameters__:  \n",
                "\n",
                "- `id`: A unique identifier for the `ChromAnalyzer` object. If not provided, the `path` is used as the ID.\n",
                "- `name`: The name of the measurement. Defaults to \"Chromatographic measurement\".\n",
                "- `values`: A list of reaction times corresponding to each file in the directory for timecourse measurements or concentrations for calibration measurements. If not provided, the reaction times are extracted from the file names if possible.\n",
                "- `time_unit`: The unit of the time values `second`, `minute`, and `hour`, which can directly be imported from `chromatopy`. This is also optional if the unit is embedded in the file names.\n",
                "- `temperature_unit`: The unit of the temperature. The default is Celsius (C).\n",
                "\n",
                "\n",
                "__Returns__:  \n",
                "\n",
                "The function returns a `ChromAnalyzer` object, which can be used to further analyze and manipulate the chromatographic data within the `chromatopy` framework.\n",
                "\n",
                "### Automatic Extraction from File Names\n",
                "\n",
                "`chromatopy` can automatically extract the reaction time and time unit or cocentration values and concentration unit directly from the file names. This is particularly useful when files are named in a way that includes this information (e.g., `sample_10min.txt`, `a11 3.45 hours.json`, or `B02_35_sec.json`). However, this requires the file names to follow a specific format that `chromatopy` can recognize: It is assumed that the reaction time is the first numerical value which might have a decimal separator, followed by the name of the unit `sec`, `second`, `min`, `minute`, or `hour`. For concentration values, the first numerical value is assumed to be the concentration, followed by the name of the unit `mM`, `uM`, `nM`. If the file names do not follow this format, values and units need to be provided manually.\n",
                "\n",
                "### Manual Specification of Reaction Times and Time Units\n",
                "\n",
                "If the reader function cannot automatically extract this information, you will need to provide it manually:\n",
                "\n",
                "- **`values`**: Provide a list of reaction times or concentrations corresponding to each file in the directory. Make sure that the file names are sorted alphabetically, so the order of values in the list matches the file order.\n",
                "- **`unit`**: Specify the unit of the time values (e.g., `sec`, `minute`, `hour`, `nM`, `uM`, `mM`, `M`).\n",
                "\n",
                "---\n",
                "\n",
                "## Allotrope Simple Model (ASM) Format\n",
                "\n",
                "The Allotrope Simple Model (ASM) format is the preferred format to be used with `chromatopy`. If not already done, you can batch process your chromatographic data with OpenChrom as [described](../../supported_formats/#spectrum-processing-with-openchrom-from-lablicate) to convert your data to the ASM format.\n",
                "\n",
                "ASM data is read in with the `read_asm` function. This function reads chromatographic data from a directory containing Allotrope Simple Model (ASM) files. The measurements are assumed to be named alphabetically, allowing sorting by file name."
            ]
        },
        {
            "cell_type": "code",
            "execution_count": 2,
            "metadata": {},
            "outputs": [
                {
                    "name": "stdout",
                    "output_type": "stream",
                    "text": [
                        " Loaded 4 chromatograms.\n"
                    ]
                }
            ],
            "source": [
                "from chromatopy import ChromAnalyzer\n",
                "\n",
                "data_dir = \"data/asm\"\n",
                "\n",
                "analyzer = ChromAnalyzer.read_asm(path=data_dir, ph=7.4, temperature=25, mode=\"timecourse\")"
            ]
        },
        {
            "cell_type": "markdown",
            "metadata": {},
            "source": [
                "## Other Supported Formats\n",
                "\n",
                "### Agilent ChemStation\n",
                "\n",
                "Agilent ChemStation files can be read in with the `read_agilent` function. Please note that this function relies on the existence of either a `RESULTS.CSV` or a `*.TXT` file in the `*.D` directory, which can be generated by the Agilent ChemStation software. Thus, it is recommended to use OpenChrom to convert your data to the ASM format.\n",
                "\n",
                "Please note, that automatic reaction time and unit detection does not work for `RESULTS.CSV` files. The reaction time and unit must be provided manually."
            ]
        },
        {
            "cell_type": "code",
            "execution_count": 3,
            "metadata": {},
            "outputs": [
                {
                    "name": "stdout",
                    "output_type": "stream",
                    "text": [
                        "sole path:  data/agilent_txt/001F0104.D/ACQ.M/rpthead.txt\n",
                        "all txt paths: [PosixPath('data/agilent_txt/001F0104.D/ACQ.M/rpthead.txt'), PosixPath('data/agilent_txt/001F0104.D/DA.M/rpthead.txt'), PosixPath('data/agilent_txt/001F0103.D/ACQ.M/rpthead.txt'), PosixPath('data/agilent_txt/001F0103.D/DA.M/rpthead.txt'), PosixPath('data/agilent_txt/001F0102.D/ACQ.M/rpthead.txt'), PosixPath('data/agilent_txt/001F0102.D/DA.M/rpthead.txt'), PosixPath('data/agilent_txt/001F0101.D/ACQ.M/rpthead.txt'), PosixPath('data/agilent_txt/001F0101.D/DA.M/rpthead.txt')]\n",
                        "everything: <generator object Path.rglob at 0x168891690>\n",
                        "lines:  ['This is a special file, named RPTHEAD.TXT, in the directory of a method\\n', 'which allows you to customize the report header page.\\n', 'It can be used to identify the laboratory which uses the method.\\n', '   \\n', 'This file is printed on the first page with the report styles:\\n', '   \\n', '   Header+Short, GLP+Short, GLP+Detail, Short+Spec, Detail+Spec, Full\\n', '   \\n', '      \\n', '   \\n', '                  XXXX   XXX                       \\n', '                 XX  XX   XX                       \\n', '                XX        XX       XXXXX   XXX XX  \\n', '                XX        XX XXX  XX    X  XX X XX \\n', '                XX    X   XXX XX  XXXXXXX  XX X XX \\n', '                 XX  XX   XX  XX  XX       XX   XX \\n', '                  XXXX   XXX  XXX  XXXXX   XXX  XXX\\n', '                                      \\n', '                                                              \\n', '\\n', '      XXXXXX     X                 X        XX                     \\n', '     XX    X    XX                XX                               \\n', '     XX        XXXXX    XXXXX    XXXXX     XXX      XXXX    XX XXX \\n', '      XXXXX     XX          X     XX        XX     XX  XX   XXX XX \\n', '          XX    XX     XXXXXX     XX        XX     XX  XX   XX  XX \\n', '     X    XX    XX XX  X   XX     XX XX     XX     XX  XX   XX  XX \\n', '     XXXXXX      XXX   XXXXX X     XXX     XXXX     XXXX    XX  XX \\n', '                                      \\n', '                                                              \\n', '   \\n', '                                                          X\\n', '          XX XXX    XXXXX   XX XXX     XXXX   XX XXX    XXXXX\\n', '           XXX XX  XX    X   XX  XX   XX  XX   XXX XX    XX\\n', '           XX      XXXXXXX   XX  XX   XX  XX   XX        XX\\n', '           XX      XX        XXXXX    XX  XX   XX        XX XX\\n', '          XXXX      XXXXX    XX        XXXX   XXXX        XXX\\n', '                            XXXX\\n', '   \\n', '   \\n', '   \\n', '          XXX                           XXX\\n', '           XX                            XX\\n', '           XX       XXXXX    XXXXX       XX    XXXXX   XX XXX\\n', '           XX XXX  XX    X       X    XXXXX   XX    X   XXX XX\\n', '           XXX XX  XXXXXXX  XXXXXX   XX  XX   XXXXXXX   XX\\n', '           XX  XX  XX       X   XX   XX  XX   XX        XX\\n', '          XXX  XXX  XXXXX   XXXXX X   XXXX X   XXXXX   XXXX\\n', '   \\n', '   \\n', '   \\n', '     X                                  XXX                X\\n', '    XX                                   XX               XX\\n', '   XXXXX    XXXXX   XXX XX   XX XXX      XX     XXXXX    XXXXX    XXXXX\\n', '    XX     XX    X  XX X XX   XX  XX     XX         X     XX     XX    X\\n', '    XX     XXXXXXX  XX X XX   XX  XX     XX    XXXXXX     XX     XXXXXXX\\n', '    XX XX  XX       XX   XX   XXXXX      XX    X   XX     XX XX  XX\\n', '     XXX    XXXXX   XXX  XXX  XX        XXXX   XXXXX X     XXX    XXXXX\\n', '                             XXXX\\n', '   \\n', '   \\n', '   \\n', '   \\n', '   \\n']\n",
                        "not rdl, txr_paths:  ['/Users/max/Documents/GitHub/chromatopy/docs/examples/data/agilent_txt/001F0104.D/Report.TXT', '/Users/max/Documents/GitHub/chromatopy/docs/examples/data/agilent_txt/001F0103.D/Report.TXT', '/Users/max/Documents/GitHub/chromatopy/docs/examples/data/agilent_txt/001F0102.D/Report.TXT', '/Users/max/Documents/GitHub/chromatopy/docs/examples/data/agilent_txt/001F0101.D/Report.TXT']\n",
                        " Loaded 4 chromatograms.\n"
                    ]
                }
            ],
            "source": [
                "from chromatopy import ChromAnalyzer\n",
                "from chromatopy.units import minute\n",
                "\n",
                "data_dir = \"data/agilent_txt\"\n",
                "reaction_times = [0, 10, 20, 40]\n",
                "\n",
                "analyzer = ChromAnalyzer.read_agilent(\n",
                "    path=data_dir,\n",
                "    ph=7.4,\n",
                "    temperature=25,\n",
                "    values=reaction_times,\n",
                "    unit=minute,\n",
                "    mode=\"timecourse\",\n",
                ")"
            ]
        },
        {
            "cell_type": "markdown",
            "metadata": {},
            "source": [
                "The `read_agilent` method also reads rdl formatted *.txt files."
            ]
        },
        {
            "cell_type": "code",
            "execution_count": 4,
            "metadata": {},
            "outputs": [
                {
                    "name": "stdout",
                    "output_type": "stream",
                    "text": [
                        "sole path:  data/agilent_rdl/M2_MJ_100_min.txt\n",
                        "all txt paths: [PosixPath('data/agilent_rdl/M2_MJ_100_min.txt')]\n",
                        "everything: <generator object Path.rglob at 0x168891be0>\n",
                        "lines:  ['┌──────────────────────────────────────────────────────────────────────────────┐\\n', '│Cross Sequence Summary Report                                                 │\\n', '└──────────────────────────────────────────────────────────────────────────────┘\\n', '   ┌────────────────┬──────────────────────────────────────────────────────────┐\\n', '   │Sample Name     │M2_MJ_                                                    │\\n', '   │                │100_min                                                   │\\n', '   └────────────────┴──────────────────────────────────────────────────────────┘\\n', '  ┌───────┬────────────────────────────────────────────────────────────────────┐\\n', '  │Signal:│DAD1A,Sig=254,4  Ref=360,100                                        │\\n', '  └───────┴────────────────────────────────────────────────────────────────────┘\\n', '  ┌───────┬───┬────────┬────────┬───────┬────────┬─────────────────────────────┐\\n', '  │    RT │Typ│  Width │   Area │ Height│  Area% │Name                         │\\n', '  │ [min] │e  │  [min] │        │       │        │                             │\\n', '  ├───────┼───┼────────┼────────┼───────┼────────┼─────────────────────────────┤\\n', '  │ 0.698 │BV │ 0.4062 │    53. │ 7.2642│ 0.3671 │                             │\\n', '  │       │   │        │   0992 │       │        │                             │\\n', '  ├───────┼───┼────────┼────────┼───────┼────────┼─────────────────────────────┤\\n', '  │ 1.169 │VV │ 0.8468 │  6094. │   783.│    42. │AMP@1,169min                 │\\n', '  │       │   │        │   3336 │   0775│   1289 │                             │\\n', '  ├───────┼───┼────────┼────────┼───────┼────────┼─────────────────────────────┤\\n', '  │ 2.756 │VB │ 0.4315 │    14. │ 1.9341│ 0.0982 │                             │\\n', '  │       │   │        │   2114 │       │        │                             │\\n', '  ├───────┼───┼────────┼────────┼───────┼────────┼─────────────────────────────┤\\n', '  │ 3.331 │BV │ 0.7823 │  7620. │   925.│    52. │ADP@3,327min                 │\\n', '  │       │   │        │   7030 │   5433│   6804 │                             │\\n', '  ├───────┼───┼────────┼────────┼───────┼────────┼─────────────────────────────┤\\n', '  │ 3.974 │VB │ 1.5648 │   381. │    55.│ 2.6397 │                             │\\n', '  │       │   │        │   8593 │   0016│        │                             │\\n', '  ├───────┼───┼────────┼────────┼───────┼────────┼─────────────────────────────┤\\n', '  │ 5.770 │BB │ 1.0452 │   301. │    22.│ 2.0856 │ATP@5,720min                 │\\n', '  │       │   │        │   7014 │   1066│        │                             │\\n', '  ├───────┼───┼────────┼────────┼───────┼────────┼─────────────────────────────┤\\n', '  │       │   │    Sum │ 14465. │       │        │                             │\\n', '  │       │   │        │   9079 │       │        │                             │\\n', '  └───────┴───┴────────┴────────┴───────┴────────┴─────────────────────────────┘\\n', '┌───────────────────────────┬────────────────────────────────┬─────────────────┐\\n', '│D:\\\\CDSProjects\\\\JNS\\\\Report  │     Printed:  2024-10-20       │    Page 1 of 1  │\\n', '│Templates\\\\Export_for_      │        16:25:44+02:00          │                 │\\n', '│python.rdl [Rev. 2.0]      │                                │                 │\\n', '════════════════════════════════════════════════════════════════════════════════\\n']\n",
                        "rdl paths:  ['/Users/max/Documents/GitHub/chromatopy/docs/examples/data/agilent_rdl/M2_MJ_100_min.txt']\n",
                        " Loaded 1 chromatograms.\n"
                    ]
                }
            ],
            "source": [
                "from chromatopy import ChromAnalyzer, minute\n",
                "\n",
                "data_dir = \"data/agilent_rdl\"\n",
                "\n",
                "analyzer = ChromAnalyzer.read_agilent(\n",
                "    path=data_dir,\n",
                "    ph=7.4,\n",
                "    temperature=25,\n",
                "    mode=\"timecourse\",\n",
                ")"
            ]
        },
        {
            "cell_type": "markdown",
            "metadata": {},
            "source": [
                "### Chromeleon\n",
                "\n",
                "Chromeleon files can be read in with the `read_chromeleon` function. Please note that this function relies on the existence of a `*.txt` file in the directory. If applicable use OpenChrom to preproces and convert your files from Thermo Fisher Scientific to the ASM format."
            ]
        },
        {
            "cell_type": "code",
            "execution_count": 5,
            "metadata": {},
            "outputs": [
                {
                    "name": "stdout",
                    "output_type": "stream",
                    "text": [
                        " Loaded 6 chromatograms.\n"
                    ]
                }
            ],
            "source": [
                "from chromatopy import ChromAnalyzer, minute\n",
                "\n",
                "data_dir = \"data/chromeleon\"\n",
                "\n",
                "analyzer = ChromAnalyzer.read_chromeleon(\n",
                "    path=data_dir,\n",
                "    ph=7.4,\n",
                "    temperature=25,\n",
                "    mode=\"calibration\",\n",
                ")"
            ]
        },
        {
            "cell_type": "markdown",
            "metadata": {},
            "source": [
                "### Shimadzu\n",
                "\n",
                "Shimadzu `*.txt` files can be read in with the `read_shimadzu` function. This function reads chromatographic data as the previously described functions.  \n",
                "In this dataset, the corresponding reaction times for each measurement are manually specified and the respective `time_unit` is imported."
            ]
        },
        {
            "cell_type": "code",
            "execution_count": 6,
            "metadata": {},
            "outputs": [
                {
                    "name": "stdout",
                    "output_type": "stream",
                    "text": [
                        " Loaded 9 chromatograms.\n"
                    ]
                }
            ],
            "source": [
                "from chromatopy import ChromAnalyzer, minute\n",
                "\n",
                "data_dir = \"data/shimadzu\"\n",
                "\n",
                "analyzer = ChromAnalyzer.read_shimadzu(\n",
                "    path=data_dir,\n",
                "    ph=7.4,\n",
                "    temperature=25,\n",
                "    values=[0, 5, 10, 15, 20, 25, 30, 35, 40],\n",
                "    unit=minute,\n",
                "    mode=\"timecourse\",\n",
                ")"
            ]
        },
        {
            "cell_type": "markdown",
            "metadata": {},
            "source": [
                "### Thermo Scientific\n",
                "\n",
                "Thermo Scientific `*.TX0` files can be read in with the `read_thermo` function. This function reads chromatographic data from files that use comma as decimal separator."
            ]
        },
        {
            "cell_type": "code",
            "execution_count": 2,
            "metadata": {},
            "outputs": [
                {
                    "name": "stdout",
                    "output_type": "stream",
                    "text": [
                        " Loaded 8 chromatograms.\n"
                    ]
                }
            ],
            "source": [
                "from chromatopy import ChromAnalyzer\n",
                "from chromatopy.units import C, minute\n",
                "\n",
                "data_dir = \"data/thermo\"\n",
                "\n",
                "analyzer = ChromAnalyzer.read_thermo(\n",
                "    path=data_dir,\n",
                "    values=[0.0, 1.0, 2.0, 3.0, 4.0, 5.0, 6.0, 7.0],\n",
                "    unit=minute,\n",
                "    ph=7.4,\n",
                "    temperature=25.0,\n",
                "    temperature_unit=C,\n",
                "    mode=\"timecourse\",\n",
                ")"
            ]
        },
        {
            "cell_type": "markdown",
            "metadata": {},
            "source": [
                "## Saving the `ChromAnalyzer` Object\n",
                "\n",
                "It is possible to save the current state of the `ChromAnalyzer` object to a file using the `to_json` method. This method saves the object as a JSON file, which can be loaded back into the `chromatopy` framework using the `from_json` function."
            ]
        },
        {
            "cell_type": "code",
            "execution_count": 7,
            "metadata": {},
            "outputs": [],
            "source": [
                "analyzer.to_json(\"data/instances/shimadzu_analyzer.json\")\n",
                "\n",
                "analyzer = ChromAnalyzer.from_json(\"data/instances/shimadzu_analyzer.json\")"
            ]
        }
    ],
    "metadata": {
        "kernelspec": {
            "display_name": "chromatopy",
            "language": "python",
            "name": "python3"
        },
        "language_info": {
            "codemirror_mode": {
                "name": "ipython",
                "version": 3
            },
            "file_extension": ".py",
            "mimetype": "text/x-python",
            "name": "python",
            "nbconvert_exporter": "python",
            "pygments_lexer": "ipython3",
            "version": "3.12.4"
        }
    },
    "nbformat": 4,
    "nbformat_minor": 2
}
