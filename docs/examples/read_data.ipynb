{
 "cells": [
  {
   "cell_type": "markdown",
   "metadata": {},
   "source": [
    "# Read in data"
   ]
  },
  {
   "cell_type": "code",
   "execution_count": 1,
   "metadata": {},
   "outputs": [],
   "source": [
    "try:\n",
    "    from chromatopy.tools import ChromAnalyzer\n",
    "except ImportError:\n",
    "    print(\"Installing chromatopy...\")\n",
    "    pass"
   ]
  },
  {
   "cell_type": "markdown",
   "metadata": {},
   "source": [
    "## Allotrope Simple Model (ASM) Format\n",
    "\n",
    "The Allotrope Simple Model (ASM) format is the preferred format to be used with `chromatopy`. If not already done, you can batch process your chromatographic data with OpenChrom as [described](../../supported_formats/#spectrum-processing-with-openchrom-from-lablicate) to convert your data to the ASM format.  \n",
    "\n",
    "ASM data is read in with the `read_asm` function. The function goes through all the files in the defined `path` and reads in the respective chromatograms and peak tables. Besides the path, the following parameters must be defined:\n",
    "- `temperature`: The reaction temperature.\n",
    "- `ph`: The pH value of the reaction.\n",
    "- `reaction_time`: The reaction time in minutes.\n",
    "- `time_unit`: The corresponding unit of the reaction time.\n",
    "\n",
    "Optinally, the following parameters can be defined:\n",
    "- `id`: An arbitrary identifier for the measurmeent series. Default is the path.\n",
    "- `temperature_unit`: The unit of the temperature. Default is C.\n",
    "\n",
    "The funtions returns the initialized `ChromAnalyzer`, which is the main object to work with in `chromatopy`."
   ]
  },
  {
   "cell_type": "code",
   "execution_count": 4,
   "metadata": {},
   "outputs": [],
   "source": [
    "from chromatopy.units import hour\n",
    "\n",
    "data_dir = \"data/asm\"\n",
    "\n",
    "reaction_times = [0, 0.5, 2, 6]\n",
    "\n",
    "analyzer = ChromAnalyzer.read_asm(\n",
    "    path=data_dir,\n",
    "    ph=7.4,\n",
    "    temperature=25,\n",
    "    reaction_times=reaction_times,\n",
    "    time_unit=hour,\n",
    ")"
   ]
  },
  {
   "cell_type": "markdown",
   "metadata": {},
   "source": [
    "## Thermo Scientific files"
   ]
  },
  {
   "cell_type": "code",
   "execution_count": 3,
   "metadata": {},
   "outputs": [],
   "source": [
    "#"
   ]
  },
  {
   "cell_type": "code",
   "execution_count": null,
   "metadata": {},
   "outputs": [],
   "source": []
  },
  {
   "cell_type": "markdown",
   "metadata": {},
   "source": [
    "## Agilent files"
   ]
  }
 ],
 "metadata": {
  "kernelspec": {
   "display_name": "chromatopy",
   "language": "python",
   "name": "python3"
  },
  "language_info": {
   "codemirror_mode": {
    "name": "ipython",
    "version": 3
   },
   "file_extension": ".py",
   "mimetype": "text/x-python",
   "name": "python",
   "nbconvert_exporter": "python",
   "pygments_lexer": "ipython3",
   "version": "3.12.4"
  }
 },
 "nbformat": 4,
 "nbformat_minor": 2
}
