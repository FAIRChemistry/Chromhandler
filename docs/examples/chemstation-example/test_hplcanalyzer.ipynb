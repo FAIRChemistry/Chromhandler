{
 "cells": [
  {
   "cell_type": "code",
   "execution_count": 1,
   "metadata": {},
   "outputs": [],
   "source": [
    "from sdRDM.generator import generate_python_api"
   ]
  },
  {
   "cell_type": "code",
   "execution_count": 2,
   "metadata": {},
   "outputs": [],
   "source": [
    "generate_python_api(\"../../specifications/chromatography.md\", \"../../\", \"chromatopy\")"
   ]
  },
  {
   "cell_type": "code",
   "execution_count": 5,
   "metadata": {},
   "outputs": [
    {
     "name": "stdout",
     "output_type": "stream",
     "text": [
      "The autoreload extension is already loaded. To reload it, use:\n",
      "  %reload_ext autoreload\n"
     ]
    }
   ],
   "source": [
    "import numpy as np\n",
    "\n",
    "%load_ext autoreload\n",
    "%autoreload 2\n",
    "from chromatopy.tools.analyzer import ChromAnalyzer"
   ]
  },
  {
   "cell_type": "code",
   "execution_count": 8,
   "metadata": {},
   "outputs": [
    {
     "ename": "UnboundLocalError",
     "evalue": "cannot access local variable 'chromatogram' where it is not associated with a value",
     "output_type": "error",
     "traceback": [
      "\u001b[0;31m---------------------------------------------------------------------------\u001b[0m",
      "\u001b[0;31mUnboundLocalError\u001b[0m                         Traceback (most recent call last)",
      "Cell \u001b[0;32mIn[8], line 6\u001b[0m\n\u001b[1;32m      3\u001b[0m analyzer \u001b[38;5;241m=\u001b[39m ChromAnalyzer\u001b[38;5;241m.\u001b[39mread_data(path)\n\u001b[1;32m      5\u001b[0m \u001b[38;5;66;03m# Visualize the peak area data of all measurements\u001b[39;00m\n\u001b[0;32m----> 6\u001b[0m \u001b[43manalyzer\u001b[49m\u001b[38;5;241;43m.\u001b[39;49m\u001b[43mplot_measurements\u001b[49m\u001b[43m(\u001b[49m\u001b[43m)\u001b[49m\n",
      "File \u001b[0;32m~/Documents/GitHub/chromatopy/chromatopy/tools/analyzer.py:226\u001b[0m, in \u001b[0;36mChromAnalyzer.plot_measurements\u001b[0;34m(self)\u001b[0m\n\u001b[1;32m    213\u001b[0m     fig\u001b[38;5;241m.\u001b[39madd_trace(\n\u001b[1;32m    214\u001b[0m         go\u001b[38;5;241m.\u001b[39mScatter(\n\u001b[1;32m    215\u001b[0m             x\u001b[38;5;241m=\u001b[39mx,\n\u001b[0;32m   (...)\u001b[0m\n\u001b[1;32m    219\u001b[0m         )\n\u001b[1;32m    220\u001b[0m     )\n\u001b[1;32m    222\u001b[0m     \u001b[38;5;66;03m# Update plot layout\u001b[39;00m\n\u001b[1;32m    223\u001b[0m fig\u001b[38;5;241m.\u001b[39mupdate_layout(\n\u001b[1;32m    224\u001b[0m     title\u001b[38;5;241m=\u001b[39m\u001b[38;5;124m\"\u001b[39m\u001b[38;5;124mChromatogram Plot\u001b[39m\u001b[38;5;124m\"\u001b[39m,\n\u001b[1;32m    225\u001b[0m     xaxis_title\u001b[38;5;241m=\u001b[39m\u001b[38;5;124m\"\u001b[39m\u001b[38;5;124mTime (min)\u001b[39m\u001b[38;5;124m\"\u001b[39m,\n\u001b[0;32m--> 226\u001b[0m     yaxis_title\u001b[38;5;241m=\u001b[39m\u001b[38;5;124mf\u001b[39m\u001b[38;5;124m\"\u001b[39m\u001b[38;5;124mAbsorbance \u001b[39m\u001b[38;5;132;01m{\u001b[39;00m\u001b[43mchromatogram\u001b[49m\u001b[38;5;241m.\u001b[39mwavelength\u001b[38;5;132;01m}\u001b[39;00m\u001b[38;5;124m nm\u001b[39m\u001b[38;5;124m\"\u001b[39m,\n\u001b[1;32m    227\u001b[0m     margin\u001b[38;5;241m=\u001b[39m\u001b[38;5;28mdict\u001b[39m(l\u001b[38;5;241m=\u001b[39m\u001b[38;5;241m0\u001b[39m, r\u001b[38;5;241m=\u001b[39m\u001b[38;5;241m0\u001b[39m, b\u001b[38;5;241m=\u001b[39m\u001b[38;5;241m0\u001b[39m, t\u001b[38;5;241m=\u001b[39m\u001b[38;5;241m30\u001b[39m),  \u001b[38;5;66;03m# Adjust margins to fit layout\u001b[39;00m\n\u001b[1;32m    228\u001b[0m     plot_bgcolor\u001b[38;5;241m=\u001b[39m\u001b[38;5;124m\"\u001b[39m\u001b[38;5;124mwhite\u001b[39m\u001b[38;5;124m\"\u001b[39m,  \u001b[38;5;66;03m# Set background to white for better visibility\u001b[39;00m\n\u001b[1;32m    229\u001b[0m )\n\u001b[1;32m    231\u001b[0m \u001b[38;5;66;03m# Show the plot\u001b[39;00m\n\u001b[1;32m    232\u001b[0m fig\u001b[38;5;241m.\u001b[39mshow()\n",
      "\u001b[0;31mUnboundLocalError\u001b[0m: cannot access local variable 'chromatogram' where it is not associated with a value"
     ]
    }
   ],
   "source": [
    "# Initialize the analyzer by loading HPLC data from folder\n",
    "path = \"/Users/max/Downloads/GC_HAO 2023-07-24 21-36-55 2\"\n",
    "analyzer = ChromAnalyzer.read_data(path)\n",
    "\n",
    "# Visualize the peak area data of all measurements\n",
    "analyzer.plot_measurements()"
   ]
  },
  {
   "cell_type": "code",
   "execution_count": null,
   "metadata": {},
   "outputs": [
    {
     "data": {
      "text/plain": [
       "Molecule(id='molecule3', name='product2', inchi=None, molecular_weight=None, retention_time=10.01, times=[datetime.datetime(2023, 7, 25, 2, 7, 27), datetime.datetime(2023, 7, 25, 2, 22, 27), datetime.datetime(2023, 7, 25, 2, 37, 29), datetime.datetime(2023, 7, 25, 2, 52, 29), datetime.datetime(2023, 7, 25, 3, 7, 31), datetime.datetime(2023, 7, 25, 3, 22, 33), datetime.datetime(2023, 7, 25, 3, 37, 34), datetime.datetime(2023, 7, 25, 3, 52, 36), datetime.datetime(2023, 7, 25, 4, 7, 38), datetime.datetime(2023, 7, 25, 4, 22, 40), datetime.datetime(2023, 7, 25, 4, 37, 42), datetime.datetime(2023, 7, 25, 4, 52, 44), datetime.datetime(2023, 7, 25, 5, 7, 48), datetime.datetime(2023, 7, 25, 5, 22, 49), datetime.datetime(2023, 7, 25, 5, 37, 52), datetime.datetime(2023, 7, 25, 5, 52, 53), datetime.datetime(2023, 7, 25, 6, 7, 53), datetime.datetime(2023, 7, 25, 6, 22, 55), datetime.datetime(2023, 7, 25, 6, 37, 57), datetime.datetime(2023, 7, 25, 6, 53), datetime.datetime(2023, 7, 25, 7, 8, 3), datetime.datetime(2023, 7, 25, 7, 23, 4), datetime.datetime(2023, 7, 25, 7, 38, 6), datetime.datetime(2023, 7, 25, 7, 53, 8), datetime.datetime(2023, 7, 25, 8, 8, 11), datetime.datetime(2023, 7, 25, 8, 23, 15), datetime.datetime(2023, 7, 25, 8, 38, 16), datetime.datetime(2023, 7, 25, 8, 53, 20), datetime.datetime(2023, 7, 25, 9, 8, 21), datetime.datetime(2023, 7, 25, 9, 23, 25), datetime.datetime(2023, 7, 25, 9, 38, 24), datetime.datetime(2023, 7, 25, 9, 53, 27)], peaks=[Peak(id='15', retention_time=10.006, retention_time_unit='min', type='BB', width=0.0748, width_unit='min', area=5280.62256, area_unit='pA*s', height=1084.97083, height_unit='pA', percent_area=2.34961), Peak(id='13', retention_time=10.009, retention_time_unit='min', type='BB', width=0.0755, width_unit='min', area=5594.80176, area_unit='pA*s', height=1134.41565, height_unit='pA', percent_area=2.14991), Peak(id='13', retention_time=10.006, retention_time_unit='min', type='BB', width=0.0771, width_unit='min', area=5402.26758, area_unit='pA*s', height=1084.82751, height_unit='pA', percent_area=2.25087), Peak(id='14', retention_time=10.005, retention_time_unit='min', type='BB', width=0.0763, width_unit='min', area=4490.22217, area_unit='pA*s', height=930.6037, height_unit='pA', percent_area=2.58135), Peak(id='11', retention_time=10.006, retention_time_unit='min', type='BB', width=0.0788, width_unit='min', area=4630.09277, area_unit='pA*s', height=918.50775, height_unit='pA', percent_area=2.4177), Peak(id='15', retention_time=10.018, retention_time_unit='min', type='BB', width=0.075, width_unit='min', area=8781.79492, area_unit='pA*s', height=1796.22144, height_unit='pA', percent_area=2.00058), Peak(id='12', retention_time=10.005, retention_time_unit='min', type='BB', width=0.0745, width_unit='min', area=4123.84912, area_unit='pA*s', height=851.13745, height_unit='pA', percent_area=2.44739), Peak(id='12', retention_time=10.006, retention_time_unit='min', type='BB', width=0.0793, width_unit='min', area=4832.44629, area_unit='pA*s', height=966.86438, height_unit='pA', percent_area=2.1946), Peak(id='16', retention_time=10.028, retention_time_unit='min', type='BB', width=0.0812, width_unit='min', area=11368.9, area_unit='pA*s', height=2203.70825, height_unit='pA', percent_area=1.28611), Peak(id='16', retention_time=10.03, retention_time_unit='min', type='BB', width=0.0804, width_unit='min', area=12293.3, area_unit='pA*s', height=2376.33569, height_unit='pA', percent_area=1.47245), Peak(id='16', retention_time=10.028, retention_time_unit='min', type='BB', width=0.0814, width_unit='min', area=12234.2, area_unit='pA*s', height=2364.7439, height_unit='pA', percent_area=1.48235), Peak(id='15', retention_time=10.006, retention_time_unit='min', type='BB', width=0.0737, width_unit='min', area=4817.42236, area_unit='pA*s', height=1008.2597, height_unit='pA', percent_area=1.93426), Peak(id='16', retention_time=10.03, retention_time_unit='min', type='BB', width=0.0827, width_unit='min', area=10048.7, area_unit='pA*s', height=1931.71216, height_unit='pA', percent_area=0.93047), Peak(id='12', retention_time=10.008, retention_time_unit='min', type='BB', width=0.0772, width_unit='min', area=5271.45947, area_unit='pA*s', height=1074.45972, height_unit='pA', percent_area=1.64049), Peak(id='14', retention_time=10.004, retention_time_unit='min', type='BB', width=0.075, width_unit='min', area=4442.10986, area_unit='pA*s', height=925.48285, height_unit='pA', percent_area=2.21803), Peak(id='15', retention_time=10.029, retention_time_unit='min', type='BB', width=0.081, width_unit='min', area=13513.9, area_unit='pA*s', height=2629.01831, height_unit='pA', percent_area=1.70587), Peak(id='12', retention_time=10.004, retention_time_unit='min', type='BB', width=0.078, width_unit='min', area=4850.0376, area_unit='pA*s', height=975.30292, height_unit='pA', percent_area=2.01269), Peak(id='14', retention_time=10.008, retention_time_unit='min', type='BB', width=0.0752, width_unit='min', area=4607.2959, area_unit='pA*s', height=957.22559, height_unit='pA', percent_area=2.26768), Peak(id='12', retention_time=10.004, retention_time_unit='min', type='BB', width=0.0775, width_unit='min', area=4031.35498, area_unit='pA*s', height=803.59094, height_unit='pA', percent_area=2.47674), Peak(id='15', retention_time=10.008, retention_time_unit='min', type='BB', width=0.0762, width_unit='min', area=4864.00244, area_unit='pA*s', height=1009.62585, height_unit='pA', percent_area=1.981), Peak(id='11', retention_time=10.002, retention_time_unit='min', type='BB', width=0.0773, width_unit='min', area=3873.86694, area_unit='pA*s', height=789.07648, height_unit='pA', percent_area=2.34767), Peak(id='14', retention_time=10.008, retention_time_unit='min', type='BB', width=0.0766, width_unit='min', area=5364.30566, area_unit='pA*s', height=1086.62573, height_unit='pA', percent_area=2.25193), Peak(id='12', retention_time=10.006, retention_time_unit='min', type='BB', width=0.0768, width_unit='min', area=5199.78125, area_unit='pA*s', height=1050.12, height_unit='pA', percent_area=2.02967), Peak(id='13', retention_time=10.01, retention_time_unit='min', type='BB', width=0.0765, width_unit='min', area=5303.3584, area_unit='pA*s', height=1075.3385, height_unit='pA', percent_area=2.0969), Peak(id='15', retention_time=10.009, retention_time_unit='min', type='BB', width=0.0777, width_unit='min', area=4816.33496, area_unit='pA*s', height=974.453, height_unit='pA', percent_area=1.50207), Peak(id='14', retention_time=10.026, retention_time_unit='min', type='BB', width=0.0773, width_unit='min', area=11189.7, area_unit='pA*s', height=2239.27856, height_unit='pA', percent_area=1.13756), Peak(id='17', retention_time=10.012, retention_time_unit='min', type='BB', width=0.0804, width_unit='min', area=6033.16992, area_unit='pA*s', height=1184.18738, height_unit='pA', percent_area=0.94142), Peak(id='13', retention_time=10.024, retention_time_unit='min', type='BB', width=0.075, width_unit='min', area=4701.33691, area_unit='pA*s', height=980.31116, height_unit='pA', percent_area=0.89063), Peak(id='14', retention_time=10.033, retention_time_unit='min', type='BB', width=0.0741, width_unit='min', area=4802.28955, area_unit='pA*s', height=1016.67065, height_unit='pA', percent_area=0.30514), Peak(id='13', retention_time=10.017, retention_time_unit='min', type='BB', width=0.0778, width_unit='min', area=2296.98779, area_unit='pA*s', height=463.93512, height_unit='pA', percent_area=0.30217), Peak(id='16', retention_time=10.025, retention_time_unit='min', type='BB', width=0.0745, width_unit='min', area=3114.87915, area_unit='pA*s', height=666.98889, height_unit='pA', percent_area=0.2377), Peak(id='14', retention_time=10.028, retention_time_unit='min', type='BB', width=0.0713, width_unit='min', area=3054.08545, area_unit='pA*s', height=656.13519, height_unit='pA', percent_area=0.21399)], concentrations=[], standard=Standard(id='standard0', factor=None), role='analyte')"
      ]
     },
     "execution_count": 3,
     "metadata": {},
     "output_type": "execute_result"
    }
   ],
   "source": [
    "# Add analyte molecules which should be quantified by specifying their retention time\n",
    "analyzer.add_analyte(\n",
    "    name=\"substrate\",\n",
    "    retention_time=6.95,\n",
    ")\n",
    "analyzer.add_analyte(\n",
    "    name=\"product1\",\n",
    "    retention_time=9.53,\n",
    ")\n",
    "analyzer.add_analyte(\n",
    "    name=\"product2\",\n",
    "    retention_time=10.01,\n",
    ")"
   ]
  },
  {
   "cell_type": "code",
   "execution_count": null,
   "metadata": {},
   "outputs": [
    {
     "ename": "KeyError",
     "evalue": "'concentration'",
     "output_type": "error",
     "traceback": [
      "\u001b[0;31m---------------------------------------------------------------------------\u001b[0m",
      "\u001b[0;31mKeyError\u001b[0m                                  Traceback (most recent call last)",
      "Cell \u001b[0;32mIn[4], line 2\u001b[0m\n\u001b[1;32m      1\u001b[0m \u001b[38;5;66;03m# Add internal standard information\u001b[39;00m\n\u001b[0;32m----> 2\u001b[0m \u001b[43manalyzer\u001b[49m\u001b[38;5;241;43m.\u001b[39;49m\u001b[43madd_internal_standard\u001b[49m\u001b[43m(\u001b[49m\n\u001b[1;32m      3\u001b[0m \u001b[43m    \u001b[49m\u001b[43mname\u001b[49m\u001b[38;5;241;43m=\u001b[39;49m\u001b[38;5;124;43m\"\u001b[39;49m\u001b[38;5;124;43minternal standard\u001b[39;49m\u001b[38;5;124;43m\"\u001b[39;49m\u001b[43m,\u001b[49m\n\u001b[1;32m      4\u001b[0m \u001b[43m    \u001b[49m\u001b[43mretention_time\u001b[49m\u001b[38;5;241;43m=\u001b[39;49m\u001b[38;5;241;43m7.78\u001b[39;49m\u001b[43m,\u001b[49m\n\u001b[1;32m      5\u001b[0m \u001b[43m    \u001b[49m\u001b[43mmolecular_weight\u001b[49m\u001b[38;5;241;43m=\u001b[39;49m\u001b[38;5;241;43m200.18\u001b[39;49m\u001b[43m,\u001b[49m\n\u001b[1;32m      6\u001b[0m \u001b[43m    \u001b[49m\u001b[43mconcentrations\u001b[49m\u001b[38;5;241;43m=\u001b[39;49m\u001b[43mnp\u001b[49m\u001b[38;5;241;43m.\u001b[39;49m\u001b[43mlinspace\u001b[49m\u001b[43m(\u001b[49m\u001b[38;5;241;43m0\u001b[39;49m\u001b[43m,\u001b[49m\u001b[43m \u001b[49m\u001b[38;5;241;43m100\u001b[39;49m\u001b[43m,\u001b[49m\u001b[43m \u001b[49m\u001b[38;5;241;43m10\u001b[39;49m\u001b[43m)\u001b[49m\u001b[43m,\u001b[49m\n\u001b[1;32m      7\u001b[0m \u001b[43m    \u001b[49m\u001b[43msignals\u001b[49m\u001b[38;5;241;43m=\u001b[39;49m\u001b[43mnp\u001b[49m\u001b[38;5;241;43m.\u001b[39;49m\u001b[43mlinspace\u001b[49m\u001b[43m(\u001b[49m\u001b[38;5;241;43m0\u001b[39;49m\u001b[43m,\u001b[49m\u001b[43m \u001b[49m\u001b[38;5;241;43m2\u001b[39;49m\u001b[43m,\u001b[49m\u001b[43m \u001b[49m\u001b[38;5;241;43m10\u001b[39;49m\u001b[43m)\u001b[49m\u001b[43m,\u001b[49m\n\u001b[1;32m      8\u001b[0m \u001b[43m)\u001b[49m\n\u001b[1;32m     10\u001b[0m \u001b[38;5;66;03m# Calculate concentrations for all analytes\u001b[39;00m\n\u001b[1;32m     11\u001b[0m \u001b[38;5;66;03m# using the specified internal standard\u001b[39;00m\n\u001b[1;32m     12\u001b[0m analyzer\u001b[38;5;241m.\u001b[39mcalculate_concentrations()\n",
      "File \u001b[0;32m~/Documents/GitHub/HPLC-specification/HPLC/tools/hplcanalyzer.py:62\u001b[0m, in \u001b[0;36mHPLCAnalyzer.add_internal_standard\u001b[0;34m(self, name, retention_time, concentrations, signals, molecular_weight, inchi, tolerance, detector)\u001b[0m\n\u001b[1;32m     50\u001b[0m \u001b[38;5;28;01mdef\u001b[39;00m \u001b[38;5;21madd_internal_standard\u001b[39m(\n\u001b[1;32m     51\u001b[0m         \u001b[38;5;28mself\u001b[39m,\n\u001b[1;32m     52\u001b[0m         name: \u001b[38;5;28mstr\u001b[39m,\n\u001b[0;32m   (...)\u001b[0m\n\u001b[1;32m     59\u001b[0m         detector: SignalType \u001b[38;5;241m=\u001b[39m \u001b[38;5;124m\"\u001b[39m\u001b[38;5;124mfid\u001b[39m\u001b[38;5;124m\"\u001b[39m\n\u001b[1;32m     60\u001b[0m ) \u001b[38;5;241m-\u001b[39m\u001b[38;5;241m>\u001b[39m Molecule:\n\u001b[0;32m---> 62\u001b[0m     internal_standard \u001b[38;5;241m=\u001b[39m \u001b[38;5;28;43mself\u001b[39;49m\u001b[38;5;241;43m.\u001b[39;49m\u001b[43m_set_molecule\u001b[49m\u001b[43m(\u001b[49m\n\u001b[1;32m     63\u001b[0m \u001b[43m        \u001b[49m\u001b[43mname\u001b[49m\u001b[38;5;241;43m=\u001b[39;49m\u001b[43mname\u001b[49m\u001b[43m,\u001b[49m\n\u001b[1;32m     64\u001b[0m \u001b[43m        \u001b[49m\u001b[43mretention_time\u001b[49m\u001b[38;5;241;43m=\u001b[39;49m\u001b[43mretention_time\u001b[49m\u001b[43m,\u001b[49m\n\u001b[1;32m     65\u001b[0m \u001b[43m        \u001b[49m\u001b[43mconcentrations\u001b[49m\u001b[38;5;241;43m=\u001b[39;49m\u001b[43mconcentrations\u001b[49m\u001b[43m,\u001b[49m\n\u001b[1;32m     66\u001b[0m \u001b[43m        \u001b[49m\u001b[43msignals\u001b[49m\u001b[38;5;241;43m=\u001b[39;49m\u001b[43msignals\u001b[49m\u001b[43m,\u001b[49m\n\u001b[1;32m     67\u001b[0m \u001b[43m        \u001b[49m\u001b[43mrole\u001b[49m\u001b[38;5;241;43m=\u001b[39;49m\u001b[43mRole\u001b[49m\u001b[38;5;241;43m.\u001b[39;49m\u001b[43mINTERNAL_STANDARD\u001b[49m\u001b[43m,\u001b[49m\n\u001b[1;32m     68\u001b[0m \u001b[43m        \u001b[49m\u001b[43mmolecular_weight\u001b[49m\u001b[38;5;241;43m=\u001b[39;49m\u001b[43mmolecular_weight\u001b[49m\u001b[43m,\u001b[49m\n\u001b[1;32m     69\u001b[0m \u001b[43m        \u001b[49m\u001b[43minchi\u001b[49m\u001b[38;5;241;43m=\u001b[39;49m\u001b[43minchi\u001b[49m\u001b[43m,\u001b[49m\n\u001b[1;32m     70\u001b[0m \u001b[43m        \u001b[49m\u001b[43mtolerance\u001b[49m\u001b[38;5;241;43m=\u001b[39;49m\u001b[43mtolerance\u001b[49m\u001b[43m,\u001b[49m\n\u001b[1;32m     71\u001b[0m \u001b[43m        \u001b[49m\u001b[43mdetector\u001b[49m\u001b[38;5;241;43m=\u001b[39;49m\u001b[43mdetector\u001b[49m\n\u001b[1;32m     72\u001b[0m \u001b[43m    \u001b[49m\u001b[43m)\u001b[49m\n\u001b[1;32m     74\u001b[0m     \u001b[38;5;28mself\u001b[39m\u001b[38;5;241m.\u001b[39minternal_standards[name] \u001b[38;5;241m=\u001b[39m internal_standard\n\u001b[1;32m     76\u001b[0m     \u001b[38;5;28;01mreturn\u001b[39;00m internal_standard\n",
      "File \u001b[0;32m~/Documents/GitHub/HPLC-specification/HPLC/tools/hplcanalyzer.py:254\u001b[0m, in \u001b[0;36mHPLCAnalyzer._set_molecule\u001b[0;34m(self, name, retention_time, role, molecular_weight, concentrations, signals, concentration_unit, inchi, tolerance, detector)\u001b[0m\n\u001b[1;32m    243\u001b[0m molecule \u001b[38;5;241m=\u001b[39m Molecule(\n\u001b[1;32m    244\u001b[0m     name\u001b[38;5;241m=\u001b[39mname,\n\u001b[1;32m    245\u001b[0m     inchi\u001b[38;5;241m=\u001b[39minchi,\n\u001b[0;32m   (...)\u001b[0m\n\u001b[1;32m    250\u001b[0m     role\u001b[38;5;241m=\u001b[39mrole\n\u001b[1;32m    251\u001b[0m )\n\u001b[1;32m    253\u001b[0m \u001b[38;5;28;01mif\u001b[39;00m concentrations \u001b[38;5;129;01mis\u001b[39;00m \u001b[38;5;129;01mnot\u001b[39;00m \u001b[38;5;28;01mNone\u001b[39;00m \u001b[38;5;129;01mand\u001b[39;00m signals \u001b[38;5;129;01mis\u001b[39;00m \u001b[38;5;129;01mnot\u001b[39;00m \u001b[38;5;28;01mNone\u001b[39;00m:\n\u001b[0;32m--> 254\u001b[0m     molecule \u001b[38;5;241m=\u001b[39m \u001b[38;5;28;43mself\u001b[39;49m\u001b[38;5;241;43m.\u001b[39;49m\u001b[43m_add_standard_to_molecule\u001b[49m\u001b[43m(\u001b[49m\n\u001b[1;32m    255\u001b[0m \u001b[43m        \u001b[49m\u001b[43mmolecule\u001b[49m\u001b[38;5;241;43m=\u001b[39;49m\u001b[43mmolecule\u001b[49m\u001b[43m,\u001b[49m\n\u001b[1;32m    256\u001b[0m \u001b[43m        \u001b[49m\u001b[43mconcentrations\u001b[49m\u001b[38;5;241;43m=\u001b[39;49m\u001b[43mconcentrations\u001b[49m\u001b[43m,\u001b[49m\n\u001b[1;32m    257\u001b[0m \u001b[43m        \u001b[49m\u001b[43msignals\u001b[49m\u001b[38;5;241;43m=\u001b[39;49m\u001b[43msignals\u001b[49m\u001b[43m,\u001b[49m\n\u001b[1;32m    258\u001b[0m \u001b[43m        \u001b[49m\u001b[43mconcentration_unit\u001b[49m\u001b[38;5;241;43m=\u001b[39;49m\u001b[43mconcentration_unit\u001b[49m\n\u001b[1;32m    259\u001b[0m \u001b[43m    \u001b[49m\u001b[43m)\u001b[49m\n\u001b[1;32m    261\u001b[0m \u001b[38;5;28;01mreturn\u001b[39;00m molecule\n",
      "File \u001b[0;32m~/Documents/GitHub/HPLC-specification/HPLC/tools/hplcanalyzer.py:326\u001b[0m, in \u001b[0;36mHPLCAnalyzer._add_standard_to_molecule\u001b[0;34m(molecule, concentrations, signals, concentration_unit)\u001b[0m\n\u001b[1;32m    316\u001b[0m \u001b[38;5;129m@staticmethod\u001b[39m\n\u001b[1;32m    317\u001b[0m \u001b[38;5;28;01mdef\u001b[39;00m \u001b[38;5;21m_add_standard_to_molecule\u001b[39m(\n\u001b[1;32m    318\u001b[0m     molecule: Molecule,\n\u001b[0;32m   (...)\u001b[0m\n\u001b[1;32m    321\u001b[0m     concentration_unit: \u001b[38;5;28mstr\u001b[39m\n\u001b[1;32m    322\u001b[0m ):\n\u001b[1;32m    324\u001b[0m     \u001b[38;5;28;01massert\u001b[39;00m \u001b[38;5;28mlen\u001b[39m(concentrations) \u001b[38;5;241m==\u001b[39m \u001b[38;5;28mlen\u001b[39m(signals)\n\u001b[0;32m--> 326\u001b[0m     molecule\u001b[38;5;241m.\u001b[39mstandard \u001b[38;5;241m=\u001b[39m \u001b[43mStandard\u001b[49m\u001b[43m(\u001b[49m\n\u001b[1;32m    327\u001b[0m \u001b[43m        \u001b[49m\u001b[43mconcentration\u001b[49m\u001b[38;5;241;43m=\u001b[39;49m\u001b[43mconcentrations\u001b[49m\u001b[43m,\u001b[49m\n\u001b[1;32m    328\u001b[0m \u001b[43m        \u001b[49m\u001b[43msignal\u001b[49m\u001b[38;5;241;43m=\u001b[39;49m\u001b[43msignals\u001b[49m\u001b[43m,\u001b[49m\n\u001b[1;32m    329\u001b[0m \u001b[43m        \u001b[49m\u001b[43mconcentration_unit\u001b[49m\u001b[38;5;241;43m=\u001b[39;49m\u001b[43mconcentration_unit\u001b[49m\n\u001b[1;32m    330\u001b[0m \u001b[43m    \u001b[49m\u001b[43m)\u001b[49m\n\u001b[1;32m    332\u001b[0m     \u001b[38;5;28;01mreturn\u001b[39;00m molecule\n",
      "File \u001b[0;32m~/Documents/GitHub/software-driven-rdm/sdRDM/base/datamodel.py:92\u001b[0m, in \u001b[0;36mDataModel.__init__\u001b[0;34m(self, **data)\u001b[0m\n\u001b[1;32m     89\u001b[0m         \u001b[38;5;28;01mcontinue\u001b[39;00m\n\u001b[1;32m     91\u001b[0m     \u001b[38;5;66;03m# Store references to other objects and vice versa\u001b[39;00m\n\u001b[0;32m---> 92\u001b[0m     \u001b[38;5;28;43mself\u001b[39;49m\u001b[38;5;241;43m.\u001b[39;49m\u001b[43m_add_reference_to_object\u001b[49m\u001b[43m(\u001b[49m\u001b[43mname\u001b[49m\u001b[43m,\u001b[49m\u001b[43m \u001b[49m\u001b[43mvalue\u001b[49m\u001b[43m)\u001b[49m\n\u001b[1;32m     94\u001b[0m \u001b[38;5;28;01mfor\u001b[39;00m field, value \u001b[38;5;129;01min\u001b[39;00m \u001b[38;5;28mself\u001b[39m\u001b[38;5;241m.\u001b[39m\u001b[38;5;18m__dict__\u001b[39m\u001b[38;5;241m.\u001b[39mitems():\n\u001b[1;32m     95\u001b[0m     \u001b[38;5;28;01mif\u001b[39;00m \u001b[38;5;129;01mnot\u001b[39;00m \u001b[38;5;28misinstance\u001b[39m(value, ListPlus):\n",
      "File \u001b[0;32m~/Documents/GitHub/software-driven-rdm/sdRDM/base/datamodel.py:929\u001b[0m, in \u001b[0;36mDataModel._add_reference_to_object\u001b[0;34m(self, name, value)\u001b[0m\n\u001b[1;32m    926\u001b[0m \u001b[38;5;28;01mdef\u001b[39;00m \u001b[38;5;21m_add_reference_to_object\u001b[39m(\u001b[38;5;28mself\u001b[39m, name, value):\n\u001b[1;32m    927\u001b[0m \u001b[38;5;250m    \u001b[39m\u001b[38;5;124;03m\"\"\"Adds the current class to the referenced object to maintain its relation\"\"\"\u001b[39;00m\n\u001b[0;32m--> 929\u001b[0m     extra \u001b[38;5;241m=\u001b[39m \u001b[38;5;28;43mself\u001b[39;49m\u001b[38;5;241;43m.\u001b[39;49m\u001b[43m__fields__\u001b[49m\u001b[43m[\u001b[49m\u001b[43mname\u001b[49m\u001b[43m]\u001b[49m\u001b[38;5;241m.\u001b[39mfield_info\u001b[38;5;241m.\u001b[39mextra\n\u001b[1;32m    931\u001b[0m     \u001b[38;5;28;01mif\u001b[39;00m \u001b[38;5;124m\"\u001b[39m\u001b[38;5;124mreference\u001b[39m\u001b[38;5;124m\"\u001b[39m \u001b[38;5;129;01mnot\u001b[39;00m \u001b[38;5;129;01min\u001b[39;00m extra:\n\u001b[1;32m    932\u001b[0m         \u001b[38;5;28;01mreturn\u001b[39;00m\n",
      "\u001b[0;31mKeyError\u001b[0m: 'concentration'"
     ]
    }
   ],
   "source": [
    "# Add internal standard information\n",
    "analyzer.add_internal_standard(\n",
    "    name=\"internal standard\",\n",
    "    retention_time=7.78,\n",
    "    molecular_weight=200.18,\n",
    "    concentrations=np.linspace(0, 100, 10),\n",
    "    signals=np.linspace(0, 2, 10),\n",
    ")\n",
    "\n",
    "# Calculate concentrations for all analytes\n",
    "# using the specified internal standard\n",
    "analyzer.calculate_concentrations()\n",
    "\n",
    "# Export concentration data to .csv\n",
    "# analyzer.to_csv(\"concentrations.csv\")"
   ]
  },
  {
   "cell_type": "code",
   "execution_count": null,
   "metadata": {},
   "outputs": [
    {
     "data": {
      "application/vnd.plotly.v1+json": {
       "config": {
        "plotlyServerURL": "https://plot.ly"
       },
       "data": [
        {
         "hovertemplate": "name=substrate<br>rel_time=%{x}<br>concentration=%{y}<extra></extra>",
         "legendgroup": "substrate",
         "marker": {
          "color": "#636efa",
          "symbol": "circle"
         },
         "mode": "markers",
         "name": "substrate",
         "orientation": "v",
         "showlegend": true,
         "type": "scatter",
         "x": [
          0,
          180.26666666666668,
          225.35,
          240.38333333333333,
          255.41666666666666,
          285.51666666666665,
          480.96666666666664,
          495.98333333333335,
          511.05,
          526.0666666666667,
          541.1333333333333,
          556.1166666666667,
          571.1666666666666
         ],
         "xaxis": "x",
         "y": [
          7490.738524008894,
          2439.6429662996356,
          4388.146161644332,
          3673.159235237882,
          3350.763884259742,
          3301.8246721682863,
          92008.77168106285,
          7522.065072326818,
          16784.564459469675,
          39457.03759477538,
          34875.20589047327,
          51195.31510914397,
          26508.348924955895
         ],
         "yaxis": "y"
        },
        {
         "hovertemplate": "name=product1<br>rel_time=%{x}<br>concentration=%{y}<extra></extra>",
         "legendgroup": "product1",
         "marker": {
          "color": "#EF553B",
          "symbol": "circle"
         },
         "mode": "markers",
         "name": "product1",
         "orientation": "v",
         "showlegend": true,
         "type": "scatter",
         "x": [
          0,
          15.033333333333333,
          30.033333333333335,
          45.083333333333336,
          60.06666666666667,
          75.1,
          90.1,
          105.16666666666667,
          120.16666666666667,
          135.2,
          150.2,
          165.23333333333332,
          180.26666666666668,
          195.28333333333333,
          210.31666666666666,
          225.35,
          240.38333333333333,
          255.41666666666666,
          270.45,
          285.51666666666665,
          300.53333333333336,
          315.5833333333333,
          330.6,
          345.6,
          360.6333333333333,
          375.6666666666667,
          390.71666666666664,
          405.76666666666665,
          420.78333333333336,
          435.81666666666666,
          450.85,
          465.9,
          480.96666666666664,
          495.98333333333335,
          511.05,
          526.0666666666667,
          541.1333333333333,
          556.1166666666667,
          571.1666666666666
         ],
         "xaxis": "x",
         "y": [
          8173.848198052318,
          9091.053069808027,
          10096.823838864306,
          10893.121824168678,
          11078.761028649335,
          11189.39375695329,
          11602.749439972551,
          20269.15263502218,
          19422.604259525076,
          20035.426742092754,
          20696.087236495932,
          19569.884123471344,
          19993.133207950228,
          20519.677763391035,
          19870.570528165612,
          18100.106532289577,
          19435.46584344246,
          19623.228171460225,
          21069.098808304214,
          15610.467334064477,
          19663.74869956286,
          20814.406871507035,
          20411.220405763914,
          20985.04259941367,
          20957.693999174713,
          20937.150464407492,
          20753.567405413854,
          20687.672527227456,
          20407.892310946034,
          19709.610656033376,
          20247.622856496702,
          19869.559293967934,
          19704.59790743409,
          15088.99478260094,
          8572.98307830163,
          5787.299743298133,
          3245.593369323738,
          2666.4955753863674,
          2721.63952822851
         ],
         "yaxis": "y"
        },
        {
         "hovertemplate": "name=product2<br>rel_time=%{x}<br>concentration=%{y}<extra></extra>",
         "legendgroup": "product2",
         "marker": {
          "color": "#00cc96",
          "symbol": "circle"
         },
         "mode": "markers",
         "name": "product2",
         "orientation": "v",
         "showlegend": true,
         "type": "scatter",
         "x": [
          0,
          15,
          30.033333333333335,
          45.03333333333333,
          60.06666666666667,
          75.1,
          90.11666666666666,
          105.15,
          120.18333333333334,
          135.21666666666667,
          150.25,
          165.28333333333333,
          180.35,
          195.36666666666667,
          210.41666666666666,
          225.43333333333334,
          240.43333333333334,
          255.46666666666667,
          270.5,
          285.55,
          300.6,
          315.6166666666667,
          330.65,
          345.68333333333334,
          360.73333333333335,
          375.8,
          390.81666666666666,
          405.8833333333333,
          420.9,
          435.96666666666664,
          450.95,
          466
         ],
         "xaxis": "x",
         "y": [
          595793.6146396337,
          895057.2512190319,
          948364.6706799757,
          767800.2308993981,
          801553.0392866961,
          1465203.2360645065,
          702597.9459432226,
          3515.8795461663162,
          7163.715349651233,
          8084.232776179027,
          9943.491392470853,
          3464.5537529452354,
          3892.195222284142,
          4494.517329565048,
          3076.0822474878587,
          2825.859758530711,
          1076.9659840620484,
          1051.043413502937,
          3039.4895741548157,
          912.6815035565184,
          2438.81713384659,
          4342.518691286872,
          1318.7101535043826,
          3990.176217815532,
          3825.4425322689194,
          10129.030876088671,
          4489.431607966873,
          4372.716902593578,
          3176.74884710124,
          1507.80450757229,
          2073.7821051464043,
          2210.3881057059607
         ],
         "yaxis": "y"
        }
       ],
       "layout": {
        "legend": {
         "title": {
          "text": "name"
         },
         "tracegroupgap": 0
        },
        "margin": {
         "t": 60
        },
        "template": {
         "data": {
          "bar": [
           {
            "error_x": {
             "color": "#2a3f5f"
            },
            "error_y": {
             "color": "#2a3f5f"
            },
            "marker": {
             "line": {
              "color": "#E5ECF6",
              "width": 0.5
             },
             "pattern": {
              "fillmode": "overlay",
              "size": 10,
              "solidity": 0.2
             }
            },
            "type": "bar"
           }
          ],
          "barpolar": [
           {
            "marker": {
             "line": {
              "color": "#E5ECF6",
              "width": 0.5
             },
             "pattern": {
              "fillmode": "overlay",
              "size": 10,
              "solidity": 0.2
             }
            },
            "type": "barpolar"
           }
          ],
          "carpet": [
           {
            "aaxis": {
             "endlinecolor": "#2a3f5f",
             "gridcolor": "white",
             "linecolor": "white",
             "minorgridcolor": "white",
             "startlinecolor": "#2a3f5f"
            },
            "baxis": {
             "endlinecolor": "#2a3f5f",
             "gridcolor": "white",
             "linecolor": "white",
             "minorgridcolor": "white",
             "startlinecolor": "#2a3f5f"
            },
            "type": "carpet"
           }
          ],
          "choropleth": [
           {
            "colorbar": {
             "outlinewidth": 0,
             "ticks": ""
            },
            "type": "choropleth"
           }
          ],
          "contour": [
           {
            "colorbar": {
             "outlinewidth": 0,
             "ticks": ""
            },
            "colorscale": [
             [
              0,
              "#0d0887"
             ],
             [
              0.1111111111111111,
              "#46039f"
             ],
             [
              0.2222222222222222,
              "#7201a8"
             ],
             [
              0.3333333333333333,
              "#9c179e"
             ],
             [
              0.4444444444444444,
              "#bd3786"
             ],
             [
              0.5555555555555556,
              "#d8576b"
             ],
             [
              0.6666666666666666,
              "#ed7953"
             ],
             [
              0.7777777777777778,
              "#fb9f3a"
             ],
             [
              0.8888888888888888,
              "#fdca26"
             ],
             [
              1,
              "#f0f921"
             ]
            ],
            "type": "contour"
           }
          ],
          "contourcarpet": [
           {
            "colorbar": {
             "outlinewidth": 0,
             "ticks": ""
            },
            "type": "contourcarpet"
           }
          ],
          "heatmap": [
           {
            "colorbar": {
             "outlinewidth": 0,
             "ticks": ""
            },
            "colorscale": [
             [
              0,
              "#0d0887"
             ],
             [
              0.1111111111111111,
              "#46039f"
             ],
             [
              0.2222222222222222,
              "#7201a8"
             ],
             [
              0.3333333333333333,
              "#9c179e"
             ],
             [
              0.4444444444444444,
              "#bd3786"
             ],
             [
              0.5555555555555556,
              "#d8576b"
             ],
             [
              0.6666666666666666,
              "#ed7953"
             ],
             [
              0.7777777777777778,
              "#fb9f3a"
             ],
             [
              0.8888888888888888,
              "#fdca26"
             ],
             [
              1,
              "#f0f921"
             ]
            ],
            "type": "heatmap"
           }
          ],
          "heatmapgl": [
           {
            "colorbar": {
             "outlinewidth": 0,
             "ticks": ""
            },
            "colorscale": [
             [
              0,
              "#0d0887"
             ],
             [
              0.1111111111111111,
              "#46039f"
             ],
             [
              0.2222222222222222,
              "#7201a8"
             ],
             [
              0.3333333333333333,
              "#9c179e"
             ],
             [
              0.4444444444444444,
              "#bd3786"
             ],
             [
              0.5555555555555556,
              "#d8576b"
             ],
             [
              0.6666666666666666,
              "#ed7953"
             ],
             [
              0.7777777777777778,
              "#fb9f3a"
             ],
             [
              0.8888888888888888,
              "#fdca26"
             ],
             [
              1,
              "#f0f921"
             ]
            ],
            "type": "heatmapgl"
           }
          ],
          "histogram": [
           {
            "marker": {
             "pattern": {
              "fillmode": "overlay",
              "size": 10,
              "solidity": 0.2
             }
            },
            "type": "histogram"
           }
          ],
          "histogram2d": [
           {
            "colorbar": {
             "outlinewidth": 0,
             "ticks": ""
            },
            "colorscale": [
             [
              0,
              "#0d0887"
             ],
             [
              0.1111111111111111,
              "#46039f"
             ],
             [
              0.2222222222222222,
              "#7201a8"
             ],
             [
              0.3333333333333333,
              "#9c179e"
             ],
             [
              0.4444444444444444,
              "#bd3786"
             ],
             [
              0.5555555555555556,
              "#d8576b"
             ],
             [
              0.6666666666666666,
              "#ed7953"
             ],
             [
              0.7777777777777778,
              "#fb9f3a"
             ],
             [
              0.8888888888888888,
              "#fdca26"
             ],
             [
              1,
              "#f0f921"
             ]
            ],
            "type": "histogram2d"
           }
          ],
          "histogram2dcontour": [
           {
            "colorbar": {
             "outlinewidth": 0,
             "ticks": ""
            },
            "colorscale": [
             [
              0,
              "#0d0887"
             ],
             [
              0.1111111111111111,
              "#46039f"
             ],
             [
              0.2222222222222222,
              "#7201a8"
             ],
             [
              0.3333333333333333,
              "#9c179e"
             ],
             [
              0.4444444444444444,
              "#bd3786"
             ],
             [
              0.5555555555555556,
              "#d8576b"
             ],
             [
              0.6666666666666666,
              "#ed7953"
             ],
             [
              0.7777777777777778,
              "#fb9f3a"
             ],
             [
              0.8888888888888888,
              "#fdca26"
             ],
             [
              1,
              "#f0f921"
             ]
            ],
            "type": "histogram2dcontour"
           }
          ],
          "mesh3d": [
           {
            "colorbar": {
             "outlinewidth": 0,
             "ticks": ""
            },
            "type": "mesh3d"
           }
          ],
          "parcoords": [
           {
            "line": {
             "colorbar": {
              "outlinewidth": 0,
              "ticks": ""
             }
            },
            "type": "parcoords"
           }
          ],
          "pie": [
           {
            "automargin": true,
            "type": "pie"
           }
          ],
          "scatter": [
           {
            "fillpattern": {
             "fillmode": "overlay",
             "size": 10,
             "solidity": 0.2
            },
            "type": "scatter"
           }
          ],
          "scatter3d": [
           {
            "line": {
             "colorbar": {
              "outlinewidth": 0,
              "ticks": ""
             }
            },
            "marker": {
             "colorbar": {
              "outlinewidth": 0,
              "ticks": ""
             }
            },
            "type": "scatter3d"
           }
          ],
          "scattercarpet": [
           {
            "marker": {
             "colorbar": {
              "outlinewidth": 0,
              "ticks": ""
             }
            },
            "type": "scattercarpet"
           }
          ],
          "scattergeo": [
           {
            "marker": {
             "colorbar": {
              "outlinewidth": 0,
              "ticks": ""
             }
            },
            "type": "scattergeo"
           }
          ],
          "scattergl": [
           {
            "marker": {
             "colorbar": {
              "outlinewidth": 0,
              "ticks": ""
             }
            },
            "type": "scattergl"
           }
          ],
          "scattermapbox": [
           {
            "marker": {
             "colorbar": {
              "outlinewidth": 0,
              "ticks": ""
             }
            },
            "type": "scattermapbox"
           }
          ],
          "scatterpolar": [
           {
            "marker": {
             "colorbar": {
              "outlinewidth": 0,
              "ticks": ""
             }
            },
            "type": "scatterpolar"
           }
          ],
          "scatterpolargl": [
           {
            "marker": {
             "colorbar": {
              "outlinewidth": 0,
              "ticks": ""
             }
            },
            "type": "scatterpolargl"
           }
          ],
          "scatterternary": [
           {
            "marker": {
             "colorbar": {
              "outlinewidth": 0,
              "ticks": ""
             }
            },
            "type": "scatterternary"
           }
          ],
          "surface": [
           {
            "colorbar": {
             "outlinewidth": 0,
             "ticks": ""
            },
            "colorscale": [
             [
              0,
              "#0d0887"
             ],
             [
              0.1111111111111111,
              "#46039f"
             ],
             [
              0.2222222222222222,
              "#7201a8"
             ],
             [
              0.3333333333333333,
              "#9c179e"
             ],
             [
              0.4444444444444444,
              "#bd3786"
             ],
             [
              0.5555555555555556,
              "#d8576b"
             ],
             [
              0.6666666666666666,
              "#ed7953"
             ],
             [
              0.7777777777777778,
              "#fb9f3a"
             ],
             [
              0.8888888888888888,
              "#fdca26"
             ],
             [
              1,
              "#f0f921"
             ]
            ],
            "type": "surface"
           }
          ],
          "table": [
           {
            "cells": {
             "fill": {
              "color": "#EBF0F8"
             },
             "line": {
              "color": "white"
             }
            },
            "header": {
             "fill": {
              "color": "#C8D4E3"
             },
             "line": {
              "color": "white"
             }
            },
            "type": "table"
           }
          ]
         },
         "layout": {
          "annotationdefaults": {
           "arrowcolor": "#2a3f5f",
           "arrowhead": 0,
           "arrowwidth": 1
          },
          "autotypenumbers": "strict",
          "coloraxis": {
           "colorbar": {
            "outlinewidth": 0,
            "ticks": ""
           }
          },
          "colorscale": {
           "diverging": [
            [
             0,
             "#8e0152"
            ],
            [
             0.1,
             "#c51b7d"
            ],
            [
             0.2,
             "#de77ae"
            ],
            [
             0.3,
             "#f1b6da"
            ],
            [
             0.4,
             "#fde0ef"
            ],
            [
             0.5,
             "#f7f7f7"
            ],
            [
             0.6,
             "#e6f5d0"
            ],
            [
             0.7,
             "#b8e186"
            ],
            [
             0.8,
             "#7fbc41"
            ],
            [
             0.9,
             "#4d9221"
            ],
            [
             1,
             "#276419"
            ]
           ],
           "sequential": [
            [
             0,
             "#0d0887"
            ],
            [
             0.1111111111111111,
             "#46039f"
            ],
            [
             0.2222222222222222,
             "#7201a8"
            ],
            [
             0.3333333333333333,
             "#9c179e"
            ],
            [
             0.4444444444444444,
             "#bd3786"
            ],
            [
             0.5555555555555556,
             "#d8576b"
            ],
            [
             0.6666666666666666,
             "#ed7953"
            ],
            [
             0.7777777777777778,
             "#fb9f3a"
            ],
            [
             0.8888888888888888,
             "#fdca26"
            ],
            [
             1,
             "#f0f921"
            ]
           ],
           "sequentialminus": [
            [
             0,
             "#0d0887"
            ],
            [
             0.1111111111111111,
             "#46039f"
            ],
            [
             0.2222222222222222,
             "#7201a8"
            ],
            [
             0.3333333333333333,
             "#9c179e"
            ],
            [
             0.4444444444444444,
             "#bd3786"
            ],
            [
             0.5555555555555556,
             "#d8576b"
            ],
            [
             0.6666666666666666,
             "#ed7953"
            ],
            [
             0.7777777777777778,
             "#fb9f3a"
            ],
            [
             0.8888888888888888,
             "#fdca26"
            ],
            [
             1,
             "#f0f921"
            ]
           ]
          },
          "colorway": [
           "#636efa",
           "#EF553B",
           "#00cc96",
           "#ab63fa",
           "#FFA15A",
           "#19d3f3",
           "#FF6692",
           "#B6E880",
           "#FF97FF",
           "#FECB52"
          ],
          "font": {
           "color": "#2a3f5f"
          },
          "geo": {
           "bgcolor": "white",
           "lakecolor": "white",
           "landcolor": "#E5ECF6",
           "showlakes": true,
           "showland": true,
           "subunitcolor": "white"
          },
          "hoverlabel": {
           "align": "left"
          },
          "hovermode": "closest",
          "mapbox": {
           "style": "light"
          },
          "paper_bgcolor": "white",
          "plot_bgcolor": "#E5ECF6",
          "polar": {
           "angularaxis": {
            "gridcolor": "white",
            "linecolor": "white",
            "ticks": ""
           },
           "bgcolor": "#E5ECF6",
           "radialaxis": {
            "gridcolor": "white",
            "linecolor": "white",
            "ticks": ""
           }
          },
          "scene": {
           "xaxis": {
            "backgroundcolor": "#E5ECF6",
            "gridcolor": "white",
            "gridwidth": 2,
            "linecolor": "white",
            "showbackground": true,
            "ticks": "",
            "zerolinecolor": "white"
           },
           "yaxis": {
            "backgroundcolor": "#E5ECF6",
            "gridcolor": "white",
            "gridwidth": 2,
            "linecolor": "white",
            "showbackground": true,
            "ticks": "",
            "zerolinecolor": "white"
           },
           "zaxis": {
            "backgroundcolor": "#E5ECF6",
            "gridcolor": "white",
            "gridwidth": 2,
            "linecolor": "white",
            "showbackground": true,
            "ticks": "",
            "zerolinecolor": "white"
           }
          },
          "shapedefaults": {
           "line": {
            "color": "#2a3f5f"
           }
          },
          "ternary": {
           "aaxis": {
            "gridcolor": "white",
            "linecolor": "white",
            "ticks": ""
           },
           "baxis": {
            "gridcolor": "white",
            "linecolor": "white",
            "ticks": ""
           },
           "bgcolor": "#E5ECF6",
           "caxis": {
            "gridcolor": "white",
            "linecolor": "white",
            "ticks": ""
           }
          },
          "title": {
           "x": 0.05
          },
          "xaxis": {
           "automargin": true,
           "gridcolor": "white",
           "linecolor": "white",
           "ticks": "",
           "title": {
            "standoff": 15
           },
           "zerolinecolor": "white",
           "zerolinewidth": 2
          },
          "yaxis": {
           "automargin": true,
           "gridcolor": "white",
           "linecolor": "white",
           "ticks": "",
           "title": {
            "standoff": 15
           },
           "zerolinecolor": "white",
           "zerolinewidth": 2
          }
         }
        },
        "xaxis": {
         "anchor": "y",
         "domain": [
          0,
          1
         ],
         "title": {
          "text": "rel_time"
         }
        },
        "yaxis": {
         "anchor": "x",
         "domain": [
          0,
          1
         ],
         "title": {
          "text": "concentration"
         }
        }
       }
      }
     },
     "metadata": {},
     "output_type": "display_data"
    }
   ],
   "source": [
    "analyzer.visualize_concentrations()"
   ]
  }
 ],
 "metadata": {
  "kernelspec": {
   "display_name": "base",
   "language": "python",
   "name": "python3"
  },
  "language_info": {
   "codemirror_mode": {
    "name": "ipython",
    "version": 3
   },
   "file_extension": ".py",
   "mimetype": "text/x-python",
   "name": "python",
   "nbconvert_exporter": "python",
   "pygments_lexer": "ipython3",
   "version": "3.12.2"
  },
  "orig_nbformat": 4
 },
 "nbformat": 4,
 "nbformat_minor": 2
}
